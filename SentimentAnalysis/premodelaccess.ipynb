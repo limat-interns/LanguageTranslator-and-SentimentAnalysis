{
 "cells": [
  {
   "cell_type": "code",
   "execution_count": 18,
   "id": "3491af80-821a-4fb7-a02f-f1c903c55d2d",
   "metadata": {},
   "outputs": [],
   "source": [
    "import torch\n",
    "from transformers import BertTokenizerFast, BertForSequenceClassification\n",
    "\n",
    "# Set the device\n",
    "device = \"mps\" if torch.backends.mps.is_available() else \"cpu\"\n",
    "\n",
    "# Load the saved model and tokenizer\n",
    "loaded_tokenizer = BertTokenizerFast.from_pretrained(\"saved_bert_sentiment_model3final\")\n",
    "loaded_model = BertForSequenceClassification.from_pretrained(\"saved_bert_sentiment_model3final\")\n",
    "loaded_model.to(device)\n",
    "loaded_model.eval()\n",
    "\n",
    "# Predict function\n",
    "def predict_sentiment(text):\n",
    "    tokens = loaded_tokenizer(\n",
    "        text,\n",
    "        padding=\"max_length\",\n",
    "        truncation=True,\n",
    "        max_length=128,\n",
    "        return_tensors=\"pt\"\n",
    "    )\n",
    "    input_ids = tokens[\"input_ids\"].to(device)\n",
    "    attention_mask = tokens[\"attention_mask\"].to(device)\n",
    "\n",
    "    with torch.no_grad():\n",
    "        logits = loaded_model(input_ids, attention_mask=attention_mask).logits\n",
    "    prediction = torch.argmax(logits, dim=1).item()\n",
    "    sentiment = \"Positive😄\" if prediction == 1 else \"Negative😩\"\n",
    "    print(f\"🧠 Sentiment: {sentiment} (label: {prediction})\")\n"
   ]
  },
  {
   "cell_type": "code",
   "execution_count": null,
   "id": "036711db-c1b0-4dca-9ef1-60dc41dee7c9",
   "metadata": {},
   "outputs": [
    {
     "name": "stdin",
     "output_type": "stream",
     "text": [
      "Enter a review (or 'exit' to quit):  Bought a brand new iPhone 15 ( 128 gb ) with a thought that I will have a good experience. But unfortunately the mobile got stuck after updating it to iOS17.1.1. Neither I could access the phone functions, nor could I switch off as the touch functionality is not working. The phone has been stuck and moreover I had to face the anger of my Seniors for not able to answer their calls. Very pathetic experience !!\n"
     ]
    },
    {
     "name": "stdout",
     "output_type": "stream",
     "text": [
      "🧠 Sentiment: Negative😩 (label: 0)\n",
      "Predicted Sentiment: None\n"
     ]
    },
    {
     "name": "stdin",
     "output_type": "stream",
     "text": [
      "Enter a review (or 'exit' to quit):  Bought a brand new iPhone 15 ( 128 gb ) with a thought that I will have a good experience. But unfortunately the mobile got stuck after updating it to iOS17.1.1. Neither I could access the phone functions, nor could I switch off as the touch functionality is not working. The phone has been stuck and moreover I had to face the anger of my Seniors for not able to answer their calls. Very pathetic experience !!\n"
     ]
    },
    {
     "name": "stdout",
     "output_type": "stream",
     "text": [
      "🧠 Sentiment: Negative😩 (label: 0)\n",
      "Predicted Sentiment: None\n"
     ]
    },
    {
     "name": "stdin",
     "output_type": "stream",
     "text": [
      "Enter a review (or 'exit' to quit):  good\n"
     ]
    },
    {
     "name": "stdout",
     "output_type": "stream",
     "text": [
      "🧠 Sentiment: Positive😄 (label: 1)\n",
      "Predicted Sentiment: None\n"
     ]
    },
    {
     "name": "stdin",
     "output_type": "stream",
     "text": [
      "Enter a review (or 'exit' to quit):  bad\n"
     ]
    },
    {
     "name": "stdout",
     "output_type": "stream",
     "text": [
      "🧠 Sentiment: Negative😩 (label: 0)\n",
      "Predicted Sentiment: None\n"
     ]
    },
    {
     "name": "stdin",
     "output_type": "stream",
     "text": [
      "Enter a review (or 'exit' to quit):  avg\n"
     ]
    },
    {
     "name": "stdout",
     "output_type": "stream",
     "text": [
      "🧠 Sentiment: Positive😄 (label: 1)\n",
      "Predicted Sentiment: None\n"
     ]
    },
    {
     "name": "stdin",
     "output_type": "stream",
     "text": [
      "Enter a review (or 'exit' to quit):  good bad\n"
     ]
    },
    {
     "name": "stdout",
     "output_type": "stream",
     "text": [
      "🧠 Sentiment: Positive😄 (label: 1)\n",
      "Predicted Sentiment: None\n"
     ]
    }
   ],
   "source": [
    "while True:\n",
    "    text = input(\"Enter a review (or 'exit' to quit): \")\n",
    "    if text.lower() == 'exit':\n",
    "        break\n",
    "    result = predict_sentiment(text)\n",
    "    print(f\"Predicted Sentiment: {result}\")\n"
   ]
  },
  {
   "cell_type": "code",
   "execution_count": null,
   "id": "5386c727-676a-4da1-9c84-30ae68891296",
   "metadata": {},
   "outputs": [],
   "source": []
  }
 ],
 "metadata": {
  "kernelspec": {
   "display_name": "Python 3 (ipykernel)",
   "language": "python",
   "name": "python3"
  },
  "language_info": {
   "codemirror_mode": {
    "name": "ipython",
    "version": 3
   },
   "file_extension": ".py",
   "mimetype": "text/x-python",
   "name": "python",
   "nbconvert_exporter": "python",
   "pygments_lexer": "ipython3",
   "version": "3.12.9"
  }
 },
 "nbformat": 4,
 "nbformat_minor": 5
}
